{
 "cells": [
  {
   "cell_type": "code",
   "execution_count": 6,
   "metadata": {},
   "outputs": [],
   "source": [
    "import os\n",
    "import re\n",
    "import nltk\n",
    "import bs4\n",
    "from langchain import hub\n",
    "from langchain_core.output_parsers import StrOutputParser\n",
    "from langchain.text_splitter import RecursiveCharacterTextSplitter\n",
    "from langchain_core.runnables import RunnablePassthrough\n",
    "from langchain_community.vectorstores import Chroma\n",
    "from nltk.corpus import stopwords\n",
    "from nltk.tokenize import word_tokenize\n",
    "from langchain_community.vectorstores.utils import filter_complex_metadata\n",
    "import google.generativeai as genai\n",
    "\n",
    "from langchain_google_genai import ChatGoogleGenerativeAI\n",
    "import urllib\n",
    "import warnings\n",
    "from pathlib import Path as p\n",
    "from pprint import pprint\n",
    "\n",
    "import pandas as pd\n",
    "from langchain.document_loaders import PyPDFLoader\n",
    "from langchain_google_genai import GoogleGenerativeAIEmbeddings\n",
    "from dotenv import load_dotenv\n",
    "import langchain.vectorstores as vectorstores\n",
    "from langchain_community.document_loaders.pdf import PyPDFLoader\n",
    "from langchain_community.llms import Cohere\n",
    "from langchain.retrievers import  ContextualCompressionRetriever\n",
    "from langchain.retrievers.document_compressors import CohereRerank\n",
    "from langchain.prompts import PromptTemplate"
   ]
  },
  {
   "cell_type": "code",
   "execution_count": 7,
   "metadata": {},
   "outputs": [],
   "source": [
    "def load_dot_env():\n",
    "    load_dotenv(\"../keys.env\")\n",
    "    llm_api_key = os.getenv(\"Gemini_key\")\n",
    "    return llm_api_key\n",
    "    \n",
    "def load_model(llm_api_key):\n",
    "    model = ChatGoogleGenerativeAI(model=\"gemini-1.5-pro-latest\",google_api_key=llm_api_key,\n",
    "                             temperature=0.2,convert_system_message_to_human=True)\n",
    "    embeddings = GoogleGenerativeAIEmbeddings(model=\"models/embedding-001\",google_api_key=llm_api_key)\n",
    "    return model  ,embeddings  \n"
   ]
  },
  {
   "cell_type": "code",
   "execution_count": 8,
   "metadata": {},
   "outputs": [],
   "source": [
    "llm_api_key = load_dot_env()\n",
    "llm,embeddings = load_model(llm_api_key)"
   ]
  },
  {
   "cell_type": "code",
   "execution_count": 9,
   "metadata": {},
   "outputs": [],
   "source": [
    "import re\n",
    "def load_document(document_path):\n",
    "    pdf_loader = PyPDFLoader(document_path)\n",
    "    pages = pdf_loader.load_and_split()\n",
    "    return pages\n",
    "def split_text(pages):\n",
    "    text_splitter = RecursiveCharacterTextSplitter(chunk_size=10000, chunk_overlap=1000)\n",
    "    context = \"\\n\\n\".join(str(p.page_content) for p in pages)\n",
    "    texts = text_splitter.split_text(context)\n",
    "    return texts\n",
    "\n",
    "def remove_emojis(string):\n",
    "    emoji_pattern = re.compile(\n",
    "        \"[\"\n",
    "        u\"\\U0001F600-\\U0001F64F\" # emoticons\n",
    "        u\"\\U0001F300-\\U0001F5FF\" # symbols & pictographs\n",
    "        u\"\\U0001F680-\\U0001F6FF\" # transport & map symbols\n",
    "        u\"\\U0001F1E0-\\U0001F1FF\" # flags (iOS)\n",
    "        u\"\\U00002702-\\U000027B0\"\n",
    "        u\"\\U000024C2-\\U0001F251\"\n",
    "        \"]+\", \n",
    "        flags=re.UNICODE\n",
    "    )\n",
    "    \n",
    "    return emoji_pattern.sub(r'', string)\n",
    "\n",
    "\n",
    "def format_docs(docs):\n",
    "    return \"\\n\\n\".join(doc.page_content for doc in docs)\n"
   ]
  },
  {
   "cell_type": "code",
   "execution_count": 10,
   "metadata": {},
   "outputs": [],
   "source": [
    "document=load_document(\"../docs/Practical Statistics for Data Scientists.pdf\")\n",
    "filtered_docs = filter_complex_metadata(document)\n",
    "splits=split_text(filtered_docs)\n",
    "\n",
    "for i in range(len(splits)):\n",
    "    splits[i] =remove_emojis(splits[i])\n",
    "\n"
   ]
  },
  {
   "cell_type": "code",
   "execution_count": 11,
   "metadata": {},
   "outputs": [
    {
     "name": "stderr",
     "output_type": "stream",
     "text": [
      "c:\\Users\\hp\\miniconda3\\envs\\llm\\lib\\site-packages\\langchain_core\\_api\\deprecation.py:139: LangChainDeprecationWarning: Since Chroma 0.4.x the manual persistence method is no longer supported as docs are automatically persisted.\n",
      "  warn_deprecated(\n"
     ]
    }
   ],
   "source": [
    "def vector_index(texts,embeddings,persist_directory=\"./Database\"):\n",
    "    vector_index = Chroma.from_texts(texts, embeddings)\n",
    "    db = Chroma.from_texts(texts, embeddings, persist_directory=persist_directory)\n",
    "    db.persist()\n",
    "    # db2 = Chroma.from_documents(text, embedding_function, persist_directory=\"./chroma_db\")\n",
    "    return vector_index\n",
    "vector_index = vector_index(splits, embeddings)\n"
   ]
  },
  {
   "cell_type": "code",
   "execution_count": 12,
   "metadata": {},
   "outputs": [],
   "source": [
    "def get_retriever(vector_index,k=20):\n",
    "    retriever = vector_index.as_retriever(search_kwargs={\"k\":k})\n",
    "    return retriever\n",
    "retriever = get_retriever(vector_index)"
   ]
  },
  {
   "cell_type": "code",
   "execution_count": null,
   "metadata": {},
   "outputs": [],
   "source": [
    "def retrieve_compressed_documents(retriever, question, top_k=5):\n",
    "    compressor = CohereRerank(top_n=top_k)\n",
    "    compression_retriever = ContextualCompressionRetriever(\n",
    "        base_compressor=compressor, base_retriever=retriever\n",
    "    )\n",
    "    compressed_docs = compression_retriever.get_relevant_documents(question)\n",
    "    return compressed_docs\n",
    "\n",
    "# Usage example\n",
    "question = \"What is data science\"\n",
    "compressed_documents = retrieve_compressed_documents(retriever, question)"
   ]
  },
  {
   "cell_type": "code",
   "execution_count": null,
   "metadata": {},
   "outputs": [],
   "source": [
    "# Re-ran\n",
    "\n",
    "def get_reranked_answer(prompt, llm):\n",
    "    reranked_rag_chain = (\n",
    "        prompt\n",
    "        | llm\n",
    "        | StrOutputParser()\n",
    "    )\n",
    "    return reranked_rag_chain  \n",
    "\n",
    "\n",
    "prompt_template = \"\"\"\n",
    "Answer the following question based on the provided context.\n",
    "\n",
    "{context}\n",
    "\n",
    "Question: {question}\n",
    "Answer:\n",
    "\"\"\"\n",
    "\n",
    "prompt = PromptTemplate(template=prompt_template, input_variables=[\"context\", \"question\"])\n",
    "\n",
    "# Chain\n",
    "question=\"What is data science\"\n",
    "rag_chain = get_reranked_answer(prompt, llm, compressed_documents)\n",
    "\n",
    "answer=rag_chain.invoke({\"context\":compressed_documents,\"question\":question})\n",
    "print(answer)"
   ]
  },
  {
   "cell_type": "code",
   "execution_count": 16,
   "metadata": {},
   "outputs": [
    {
     "name": "stdout",
     "output_type": "stream",
     "text": [
      "Note: you may need to restart the kernel to use updated packages.\n"
     ]
    }
   ],
   "source": [
    "pip freeze > requirements_advanced_rag.txt"
   ]
  }
 ],
 "metadata": {
  "kernelspec": {
   "display_name": "Python 3",
   "language": "python",
   "name": "python3"
  },
  "language_info": {
   "codemirror_mode": {
    "name": "ipython",
    "version": 3
   },
   "file_extension": ".py",
   "mimetype": "text/x-python",
   "name": "python",
   "nbconvert_exporter": "python",
   "pygments_lexer": "ipython3",
   "version": "3.10.0"
  }
 },
 "nbformat": 4,
 "nbformat_minor": 2
}
